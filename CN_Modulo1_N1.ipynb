{
  "nbformat": 4,
  "nbformat_minor": 0,
  "metadata": {
    "colab": {
      "provenance": [],
      "toc_visible": true,
      "include_colab_link": true
    },
    "kernelspec": {
      "name": "python3",
      "display_name": "Python 3"
    }
  },
  "cells": [
    {
      "cell_type": "markdown",
      "metadata": {
        "id": "view-in-github",
        "colab_type": "text"
      },
      "source": [
        "<a href=\"https://colab.research.google.com/github/marantmir/1766-logica-programacao-python/blob/aula_1/CN_Modulo1_N1.ipynb\" target=\"_parent\"><img src=\"https://colab.research.google.com/assets/colab-badge.svg\" alt=\"Open In Colab\"/></a>"
      ]
    },
    {
      "cell_type": "markdown",
      "metadata": {
        "id": "JpVDpfMtMp--"
      },
      "source": [
        "#1. Testando a precisão de sua máquina\n",
        "\n",
        "Para verificar qual é a precisão empregada pela linguagem de programação Python é útil calcular:\n",
        "\n",
        "* 0,1 + 0,1 + 0,1 = 0,3 ?\n",
        "\n",
        "* $\\displaystyle \\sum^{30000}_{i=1} x_i = 15.000$ para $x_i = 0,5$?\n",
        "\n",
        "* $\\displaystyle \\sum^{30000}_{i=1} x_i = 3.000$ para $x_i = 0,1$?"
      ]
    },
    {
      "cell_type": "code",
      "metadata": {
        "id": "2YJEpBYVNM6T",
        "colab": {
          "base_uri": "https://localhost:8080/"
        },
        "outputId": "e3e2a6dc-5ce4-4d55-e274-9bb6425181e5"
      },
      "source": [
        "# Mais detalhes em: https://docs.python.org/3/tutorial/floatingpoint.html\n",
        "\n",
        "val = 0.1 + 0.1 + 0.1\n",
        "print(\"val = \"+str(val))\n",
        "n = 30000\n",
        "lista1 = [0.5] * n\n",
        "lista2 = [0.1]* n\n",
        "print(\"lista1[0]     = \",lista1[0])\n",
        "print(\"lista1[29999] = \",lista1[29999])\n",
        "print(\"lista2[0]     = \",lista2[0])\n",
        "print(\"lista2[29999] = \",lista2[29999])\n",
        "print(\"len(lista1)   = \",len(lista1))\n",
        "print(\"len(lista2)   = \",len(lista2))\n",
        "print(\"sum(lista1)   = \",sum(lista1))\n",
        "print(\"sum(lista2)   = \",sum(lista2))"
      ],
      "execution_count": null,
      "outputs": [
        {
          "output_type": "stream",
          "text": [
            "val = 0.30000000000000004\n",
            "lista1[0]     =  0.5\n",
            "lista1[29999] =  0.5\n",
            "lista2[0]     =  0.1\n",
            "lista2[29999] =  0.1\n",
            "len(lista1)   =  30000\n",
            "len(lista2)   =  30000\n",
            "sum(lista1)   =  15000.0\n",
            "sum(lista2)   =  2999.999999998367\n"
          ],
          "name": "stdout"
        }
      ]
    },
    {
      "cell_type": "markdown",
      "metadata": {
        "id": "ip5Gc0ms9q1p"
      },
      "source": [
        "#2. Limitações na representação de um número\n",
        "\n",
        "Existem limites na representação dos valores na linguagem Python. O programa a seguir busca evidenciar o que ocorre para um valor acima do limite superior que é possível representar."
      ]
    },
    {
      "cell_type": "code",
      "metadata": {
        "id": "L-RIrdBw9-GQ",
        "colab": {
          "base_uri": "https://localhost:8080/",
          "height": 52
        },
        "outputId": "99a52491-0fd6-4b24-f183-c7eaf775f238"
      },
      "source": [
        "# https://www.geeksforgeeks.org/python-float-type-and-its-methods/\n",
        "print(1.7e308)\n",
        "# maior que 1.8 * 10^308 será impresso 'inf'\n",
        "print(1.82e308)"
      ],
      "execution_count": null,
      "outputs": [
        {
          "output_type": "stream",
          "text": [
            "1.7e+308\n",
            "inf\n"
          ],
          "name": "stdout"
        }
      ]
    },
    {
      "cell_type": "markdown",
      "metadata": {
        "id": "5t-AuUCw5tmG"
      },
      "source": [
        "#3. Obtendo o número de bits\n",
        "\n",
        "Para obter o número de bits reservados para uma variável criada em Python, basta empregar a sequência de comandos descrita a seguir."
      ]
    },
    {
      "cell_type": "code",
      "metadata": {
        "id": "MUfbE4cg6CrZ",
        "colab": {
          "base_uri": "https://localhost:8080/",
          "height": 69
        },
        "outputId": "e23a6e46-ac23-4950-d33a-bf10568155dd"
      },
      "source": [
        "# https://www.includehelp.com/python/find-number-of-bits-necessary-to-represent-an-integer-in-binary.aspx\n",
        "# Entre com um numero\n",
        "num = int(input(\"Entre com um número inteiro: \"))\n",
        "\n",
        "# Total de bits para representar um número inteiro.\n",
        "bits = num.bit_length()\n",
        "\n",
        "print(\"Bits requeridos para armazenar \", num, \" = \", bits)\n",
        "print(\"Valor binário de \", num, \" é = \", bin(num))"
      ],
      "execution_count": null,
      "outputs": [
        {
          "output_type": "stream",
          "text": [
            "Entre com um número inteiro: 1\n",
            "Bits requeridos para armazenar  1  =  1\n",
            "Valor binário de  1  é =  0b1\n"
          ],
          "name": "stdout"
        }
      ]
    },
    {
      "cell_type": "markdown",
      "metadata": {
        "id": "EWNwptKP7EXc"
      },
      "source": [
        "#4. Conversão de número inteiro na base 2 para a base 10\n",
        "\n",
        "Este programa converte um valor inteiro na base 2 para um valor inteiro na base 10."
      ]
    },
    {
      "cell_type": "code",
      "metadata": {
        "id": "zU57XAeS6gWy",
        "colab": {
          "base_uri": "https://localhost:8080/",
          "height": 51
        },
        "outputId": "05781150-7efb-468b-bfc0-be28a499c9e9"
      },
      "source": [
        "val = input('Digite o número binário: ')\n",
        "print('O valor digitado é (' + val + ')_2')"
      ],
      "execution_count": null,
      "outputs": [
        {
          "output_type": "stream",
          "text": [
            "Digite o número binário: 1011\n",
            "O valor digitado é (1011)_2\n"
          ],
          "name": "stdout"
        }
      ]
    },
    {
      "cell_type": "code",
      "metadata": {
        "id": "CYa0-PbB8STl",
        "colab": {
          "base_uri": "https://localhost:8080/",
          "height": 34
        },
        "outputId": "c215a713-7811-4df6-9057-261f0b8ff9ad"
      },
      "source": [
        "print(\"Val é uma variável do tipo: \" + str(type(val)))"
      ],
      "execution_count": null,
      "outputs": [
        {
          "output_type": "stream",
          "text": [
            "Val é uma variável do tipo: <class 'str'>\n"
          ],
          "name": "stdout"
        }
      ]
    },
    {
      "cell_type": "code",
      "metadata": {
        "id": "QGTv1XBp8ASg",
        "colab": {
          "base_uri": "https://localhost:8080/",
          "height": 103
        },
        "outputId": "637d4c2c-071d-442c-b02a-aa248f4c4e3c"
      },
      "source": [
        "print('val[0] = ',val[0])\n",
        "print('val[1] = ',val[1])\n",
        "print('val[2] = ',val[2])\n",
        "print('val[3] = ',val[3])\n",
        "print('val[-1] = ',val[-1])"
      ],
      "execution_count": null,
      "outputs": [
        {
          "output_type": "stream",
          "text": [
            "val[0] =  1\n",
            "val[1] =  0\n",
            "val[2] =  1\n",
            "val[3] =  1\n",
            "val[-1] =  1\n"
          ],
          "name": "stdout"
        }
      ]
    },
    {
      "cell_type": "code",
      "metadata": {
        "id": "LxTdxQXF8qSa",
        "colab": {
          "base_uri": "https://localhost:8080/",
          "height": 51
        },
        "outputId": "875ee7e9-3948-445a-9976-a881329cbe31"
      },
      "source": [
        "print('val[0:3] = ',val[0:3])\n",
        "print('val[0:] = ',val[0:])"
      ],
      "execution_count": null,
      "outputs": [
        {
          "output_type": "stream",
          "text": [
            "val[0:3] =  101\n",
            "val[0:] =  1011\n"
          ],
          "name": "stdout"
        }
      ]
    },
    {
      "cell_type": "code",
      "metadata": {
        "id": "qiCw_hxh-KoK",
        "colab": {
          "base_uri": "https://localhost:8080/",
          "height": 103
        },
        "outputId": "eee83d15-7e07-4a6e-9dab-086a318bf039"
      },
      "source": [
        "lv = len(val)\n",
        "print(\"length(val) = \"+str(lv))\n",
        "\n",
        "for i in range(0,lv):\n",
        "  print('val[i] = '+val[i])"
      ],
      "execution_count": null,
      "outputs": [
        {
          "output_type": "stream",
          "text": [
            "length(val) = 4\n",
            "val[i] = 1\n",
            "val[i] = 0\n",
            "val[i] = 1\n",
            "val[i] = 1\n"
          ],
          "name": "stdout"
        }
      ]
    },
    {
      "cell_type": "code",
      "metadata": {
        "id": "s7m3Q80tAwfK",
        "colab": {
          "base_uri": "https://localhost:8080/",
          "height": 86
        },
        "outputId": "353067c3-0f0a-4cef-8bf3-f7724a6de2cc"
      },
      "source": [
        "for i in range(0,lv):\n",
        "  print('val['+str(i)+'] = '+val[i])\n",
        ""
      ],
      "execution_count": null,
      "outputs": [
        {
          "output_type": "stream",
          "text": [
            "val[0] = 1\n",
            "val[1] = 0\n",
            "val[2] = 1\n",
            "val[3] = 1\n"
          ],
          "name": "stdout"
        }
      ]
    },
    {
      "cell_type": "code",
      "metadata": {
        "id": "vVJUJtZ5Cf8n",
        "colab": {
          "base_uri": "https://localhost:8080/",
          "height": 34
        },
        "outputId": "664a46f7-1445-40ca-f44b-a034543c1281"
      },
      "source": [
        "num = int(val[0])\n",
        "for i in range(1,lv):\n",
        "  num = int(val[i]) + 2*num\n",
        "\n",
        "#num = num + int(val[-1])\n",
        "\n",
        "print(\"Valor (\" + str(val) + \")_2 na base 10: \" + str(num))"
      ],
      "execution_count": null,
      "outputs": [
        {
          "output_type": "stream",
          "text": [
            "Valor (1011)_2 na base 10: 11\n"
          ],
          "name": "stdout"
        }
      ]
    },
    {
      "cell_type": "markdown",
      "metadata": {
        "id": "fMxeVCCwCxO3"
      },
      "source": [
        "#5. Resumo: conversão da base 2 para base 10\n",
        "Código resumo a ser empregado para conversão de número na base 2 para base 10."
      ]
    },
    {
      "cell_type": "code",
      "metadata": {
        "id": "EZOvMh9qCw4M",
        "colab": {
          "base_uri": "https://localhost:8080/",
          "height": 69
        },
        "outputId": "3a8598fa-3010-46e4-e8a1-5ce3ed1f77f5"
      },
      "source": [
        "val = input('Digite o número binário: ')\n",
        "print('O valor digitado é (' + val + ')_2')\n",
        "\n",
        "num = int(val[0])\n",
        "for i in range(1,lv):\n",
        "  num = int(val[i]) + 2*num\n",
        "\n",
        "num = num + int(val[-1])\n",
        "\n",
        "print(\"Valor (\" + str(val) + \")_2 na base 10: \" + str(num))"
      ],
      "execution_count": null,
      "outputs": [
        {
          "output_type": "stream",
          "text": [
            "Digite o número binário: 0101\n",
            "O valor digitado é (0101)_2\n",
            "Valor (0101)_2 na base 10: 6\n"
          ],
          "name": "stdout"
        }
      ]
    },
    {
      "cell_type": "markdown",
      "metadata": {
        "id": "AlGEwRriUcHL"
      },
      "source": [
        "#6. Conversão de um número na base 10 para base 2\n",
        "\n",
        "Código resumo a ser empregado para conversão de um número na base 10 para base 2."
      ]
    },
    {
      "cell_type": "code",
      "metadata": {
        "id": "QZWCNv65UUPF",
        "colab": {
          "base_uri": "https://localhost:8080/",
          "height": 158
        },
        "outputId": "2e2e6669-ed47-4758-a746-c671125d0f69"
      },
      "source": [
        "va = input('Digite o número na base 10: ')\n",
        "print('O valor digitado é (' + va + ')_10')\n",
        "\n",
        "val = int(va)\n",
        "num = []\n",
        "num.append(val % 2)\n",
        "val = int(val/2)\n",
        "print(val)\n",
        "\n",
        "while (val >= 1):\n",
        "  num.append(val % 2)\n",
        "  val = int(val/2)\n",
        "  print(val)\n",
        "\n",
        "num = num[::-1]\n",
        "print(\"Valor (\" + va + \")_10 na base 2: \" + str(num))"
      ],
      "execution_count": null,
      "outputs": [
        {
          "output_type": "stream",
          "text": [
            "Digite o número na base 10: 20\n",
            "O valor digitado é (20)_10\n",
            "10\n",
            "5\n",
            "2\n",
            "1\n",
            "0\n",
            "Valor (20)_10 na base 2: [1, 0, 1, 0, 0]\n"
          ],
          "name": "stdout"
        }
      ]
    },
    {
      "cell_type": "markdown",
      "metadata": {
        "id": "iRx5inNgI1o_"
      },
      "source": [
        "# 7. Conversão número real: Base 2 para base 10\n",
        "\n",
        "A seguir é fornecido o código que converte um número real entre 0 e 1 da base 10 para a base 2."
      ]
    },
    {
      "cell_type": "code",
      "metadata": {
        "id": "jT0rel2mJPvC",
        "colab": {
          "base_uri": "https://localhost:8080/",
          "height": 104
        },
        "outputId": "b23c6d62-75b7-4c00-a06d-4c66b03d9a6d"
      },
      "source": [
        "n = input('Digite um número entre 0 e 1:')\n",
        "\n",
        "d = [0]\n",
        "r = 2*float(n)\n",
        "\n",
        "iter = 0\n",
        "while (r > 0.0)&(iter <= 20):\n",
        "\n",
        "  if (r >= 1):\n",
        "    dk = 1\n",
        "  else:\n",
        "    dk = 0\n",
        "  print(dk)\n",
        "  d.append(dk)\n",
        "  r = r - dk\n",
        "\n",
        "  if (r >= 0):\n",
        "    r = 2*r\n",
        "\n",
        "  iter = iter + 1\n",
        "\n",
        "print(\"(\"+n+\")10 = (\"+str(d)+\")2\")"
      ],
      "execution_count": null,
      "outputs": [
        {
          "output_type": "stream",
          "text": [
            "Digite um número entre 0 e 1:0.125\n",
            "0\n",
            "0\n",
            "1\n",
            "(0.125)10 = ([0, 0, 0, 1])2\n"
          ],
          "name": "stdout"
        }
      ]
    },
    {
      "cell_type": "markdown",
      "metadata": {
        "id": "iiyGKTtWhrWK"
      },
      "source": [
        "# 8. Conversão número real: Base 10 para base 2\n",
        "\n",
        "A seguir é fornecido o código que converte um número real entre 0 e 1 da base 2 para a base 10."
      ]
    },
    {
      "cell_type": "code",
      "metadata": {
        "id": "1g16iehdh0bK",
        "colab": {
          "base_uri": "https://localhost:8080/"
        },
        "outputId": "48af745e-88da-45c4-e612-28eafb830d84"
      },
      "source": [
        "n = input('Digite um número entre 0 e 1:')\n",
        "\n",
        "d = [0]\n",
        "r = 2*float(n)\n",
        "\n",
        "iter = 0\n",
        "while (r > 0.0)&(iter <= 20):\n",
        "\n",
        "  if (r >= 1):\n",
        "    dk = 1\n",
        "  else:\n",
        "    dk = 0\n",
        "  print(dk)\n",
        "  d.append(dk)\n",
        "  r = r - dk\n",
        "\n",
        "  if (r >= 0):\n",
        "    r = 2*r\n",
        "\n",
        "  iter = iter + 1\n",
        "\n",
        "print(\"(\"+n+\")10 = (\"+str(d)+\")2\")"
      ],
      "execution_count": null,
      "outputs": [
        {
          "output_type": "stream",
          "text": [
            "Digite um número entre 0 e 1:0.5\n",
            "1\n",
            "(0.5)10 = ([0, 1])2\n"
          ],
          "name": "stdout"
        }
      ]
    }
  ]
}